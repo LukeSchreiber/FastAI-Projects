{
  "nbformat": 4,
  "nbformat_minor": 0,
  "metadata": {
    "colab": {
      "provenance": [],
      "gpuType": "T4",
      "machine_shape": "hm",
      "authorship_tag": "ABX9TyPoerTi+2BETmtz6wRyuQhV",
      "include_colab_link": true
    },
    "kernelspec": {
      "name": "python3",
      "display_name": "Python 3"
    },
    "language_info": {
      "name": "python"
    },
    "accelerator": "GPU"
  },
  "cells": [
    {
      "cell_type": "markdown",
      "metadata": {
        "id": "view-in-github",
        "colab_type": "text"
      },
      "source": [
        "<a href=\"https://colab.research.google.com/github/LukeSchreiber/FastAI-Projects/blob/main/Week2Export.ipynb\" target=\"_parent\"><img src=\"https://colab.research.google.com/assets/colab-badge.svg\" alt=\"Open In Colab\"/></a>"
      ]
    },
    {
      "cell_type": "markdown",
      "source": [
        "A CIFAR-10 image classifier — upload a dataset image (airplane, car, bird, cat, deer, dog, frog, horse, ship, or truck) and see what the model predicts.\n"
      ],
      "metadata": {
        "id": "SGq24azcYA-3"
      }
    },
    {
      "cell_type": "code",
      "execution_count": 4,
      "metadata": {
        "id": "cxCsoXm6WeZY"
      },
      "outputs": [],
      "source": [
        "!pip -q install gradio fastai\n",
        "\n",
        "from fastai.vision.all import *\n",
        "import gradio as gr\n",
        "from pathlib import Path"
      ]
    },
    {
      "cell_type": "markdown",
      "source": [
        "first install what we need"
      ],
      "metadata": {
        "id": "mOtFVInjYMBj"
      }
    },
    {
      "cell_type": "code",
      "source": [
        "from fastai.vision.all import *"
      ],
      "metadata": {
        "id": "JyLhLzKpYLFQ"
      },
      "execution_count": 5,
      "outputs": []
    },
    {
      "cell_type": "markdown",
      "source": [
        "import all the fast.ai that we are going to use\n"
      ],
      "metadata": {
        "id": "NE69nGQrYSjs"
      }
    },
    {
      "cell_type": "code",
      "source": [
        "path = untar_data(URLs.CIFAR)\n"
      ],
      "metadata": {
        "id": "swz3xl_fYhF3"
      },
      "execution_count": 6,
      "outputs": []
    },
    {
      "cell_type": "markdown",
      "source": [
        "set path then download and decompress the data\n"
      ],
      "metadata": {
        "id": "2RwuFii5Yhvg"
      }
    },
    {
      "cell_type": "code",
      "source": [
        "dls = ImageDataLoaders.from_folder(path/'train', # Point to the 'train' folder\n",
        "    valid_pct=0.2, #20% validation set\n",
        "    item_tfms=Resize(192)) #Resize the images"
      ],
      "metadata": {
        "id": "CoyFflTXYjza"
      },
      "execution_count": 7,
      "outputs": []
    },
    {
      "cell_type": "markdown",
      "source": [
        "Create the data loader"
      ],
      "metadata": {
        "id": "XNOaLp47al8m"
      }
    },
    {
      "cell_type": "code",
      "source": [
        "learn = vision_learner(dls, resnet18, metrics=error_rate) #train\n",
        "learn.fine_tune(5) #5 times"
      ],
      "metadata": {
        "colab": {
          "base_uri": "https://localhost:8080/",
          "height": 95
        },
        "id": "ck9uvo4latvs",
        "outputId": "065dce77-49d5-47f6-a55f-5dc035b62c68"
      },
      "execution_count": null,
      "outputs": [
        {
          "output_type": "display_data",
          "data": {
            "text/plain": [
              "<IPython.core.display.HTML object>"
            ],
            "text/html": [
              "\n",
              "<style>\n",
              "    /* Turns off some styling */\n",
              "    progress {\n",
              "        /* gets rid of default border in Firefox and Opera. */\n",
              "        border: none;\n",
              "        /* Needs to be in here for Safari polyfill so background images work as expected. */\n",
              "        background-size: auto;\n",
              "    }\n",
              "    progress:not([value]), progress:not([value])::-webkit-progress-bar {\n",
              "        background: repeating-linear-gradient(45deg, #7e7e7e, #7e7e7e 10px, #5c5c5c 10px, #5c5c5c 20px);\n",
              "    }\n",
              "    .progress-bar-interrupted, .progress-bar-interrupted::-webkit-progress-bar {\n",
              "        background: #F44336;\n",
              "    }\n",
              "</style>\n"
            ]
          },
          "metadata": {}
        },
        {
          "output_type": "display_data",
          "data": {
            "text/plain": [
              "<IPython.core.display.HTML object>"
            ],
            "text/html": [
              "\n",
              "    <div>\n",
              "      <progress value='0' class='' max='1' style='width:300px; height:20px; vertical-align: middle;'></progress>\n",
              "      0.00% [0/1 00:00&lt;?]\n",
              "    </div>\n",
              "    \n",
              "<table border=\"1\" class=\"dataframe\">\n",
              "  <thead>\n",
              "    <tr style=\"text-align: left;\">\n",
              "      <th>epoch</th>\n",
              "      <th>train_loss</th>\n",
              "      <th>valid_loss</th>\n",
              "      <th>error_rate</th>\n",
              "      <th>time</th>\n",
              "    </tr>\n",
              "  </thead>\n",
              "  <tbody>\n",
              "  </tbody>\n",
              "</table><p>\n",
              "\n",
              "    <div>\n",
              "      <progress value='358' class='' max='625' style='width:300px; height:20px; vertical-align: middle;'></progress>\n",
              "      57.28% [358/625 00:36&lt;00:27 0.8924]\n",
              "    </div>\n",
              "    "
            ]
          },
          "metadata": {}
        }
      ]
    },
    {
      "cell_type": "markdown",
      "source": [
        "train the model using vison_learner and learn.fine_tune"
      ],
      "metadata": {
        "id": "kEBJ634qa5Te"
      }
    },
    {
      "cell_type": "code",
      "source": [
        "learn.export('model.pkl')"
      ],
      "metadata": {
        "id": "Xq38tw2ZbAmE"
      },
      "execution_count": null,
      "outputs": []
    },
    {
      "cell_type": "markdown",
      "source": [
        "Export the model as model.pkl"
      ],
      "metadata": {
        "id": "3AtWKbJUmRya"
      }
    },
    {
      "cell_type": "code",
      "source": [
        "#loads the model\n",
        "learn = load_learner('/content/model.pkl')\n",
        "\n",
        "#predict function\n",
        "def predict(img: PILImage):\n",
        "    label, idx, probs = learn.predict(img)\n",
        "    return {str(c): float(p) for c,p in zip(learn.dls.vocab, probs)}\n",
        "\n",
        "#AI generated UI with instructions\n",
        "demo = gr.Interface(\n",
        "    fn=predict,\n",
        "    inputs=gr.Image(type=\"pil\", label=\"Upload a CIFAR-10 image (airplane, car, bird, cat, deer, dog, frog, horse, ship, truck)\"),\n",
        "    outputs=gr.Label(num_top_classes=3),\n",
        "    title=\"CIFAR-10 Classifier\",\n",
        "    description=(\n",
        "        \"This model was trained on the CIFAR-10 dataset.\\n\"\n",
        "        \"For best results, use images from **that dataset**. \"\n",
        "        \"Arbitrary phone photos are out-of-distribution and will be misclassified.\"\n",
        "    ),\n",
        "\n",
        ")\n",
        "demo.launch(share=True)\n",
        "\n"
      ],
      "metadata": {
        "id": "h8Xs6wAtkprD"
      },
      "execution_count": null,
      "outputs": []
    },
    {
      "cell_type": "markdown",
      "source": [
        "export model so its usable on a web app!\n",
        "just click the link then upload a image of something from the list!"
      ],
      "metadata": {
        "id": "rQjin6rOmVlu"
      }
    }
  ]
}