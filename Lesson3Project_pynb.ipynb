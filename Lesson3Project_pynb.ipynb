{
  "nbformat": 4,
  "nbformat_minor": 0,
  "metadata": {
    "colab": {
      "provenance": [],
      "machine_shape": "hm",
      "gpuType": "A100",
      "mount_file_id": "1TVoHMmHeqV308k91g8vw7OMF1bHjwhKC",
      "authorship_tag": "ABX9TyN5E83/wS1FmqDwrDf7JJ0W",
      "include_colab_link": true
    },
    "kernelspec": {
      "name": "python3",
      "display_name": "Python 3"
    },
    "language_info": {
      "name": "python"
    },
    "accelerator": "GPU"
  },
  "cells": [
    {
      "cell_type": "markdown",
      "metadata": {
        "id": "view-in-github",
        "colab_type": "text"
      },
      "source": [
        "<a href=\"https://colab.research.google.com/github/LukeSchreiber/FastAI-Projects/blob/main/Lesson3Project_pynb.ipynb\" target=\"_parent\"><img src=\"https://colab.research.google.com/assets/colab-badge.svg\" alt=\"Open In Colab\"/></a>"
      ]
    },
    {
      "cell_type": "markdown",
      "source": [
        "Welcome to my lesson 3 project! in this one i made a image classifer that can recognize different shoes! this build upon week 1 and 2 with the addition of learning rates."
      ],
      "metadata": {
        "id": "GpGJ3TODLKbt"
      }
    },
    {
      "cell_type": "code",
      "source": [
        "from google.colab import drive\n",
        "drive.mount('/content/drive')\n",
        "\n",
        "from pathlib import Path\n",
        "BASE = Path('/content/drive/MyDrive/shoe_project')\n",
        "DATA_DIR = BASE/'data'\n",
        "DATA_DIR.mkdir(parents=True, exist_ok=True)\n",
        "print('Saving to:', DATA_DIR)\n"
      ],
      "metadata": {
        "colab": {
          "base_uri": "https://localhost:8080/"
        },
        "id": "zUSkA8tD0AB3",
        "outputId": "c0c75f8e-3327-497b-bc93-c3f9a0f2fd96"
      },
      "execution_count": null,
      "outputs": [
        {
          "output_type": "stream",
          "name": "stdout",
          "text": [
            "Drive already mounted at /content/drive; to attempt to forcibly remount, call drive.mount(\"/content/drive\", force_remount=True).\n",
            "Saving to: /content/drive/MyDrive/shoe_project/data\n"
          ]
        }
      ]
    },
    {
      "cell_type": "markdown",
      "source": [
        "Mount the drive and have the project folders in there aswell"
      ],
      "metadata": {
        "id": "9wVSGvz10B9S"
      }
    },
    {
      "cell_type": "code",
      "source": [
        "import os, shutil\n",
        "from google.colab import files\n",
        "\n",
        "if not os.path.exists('/root/.kaggle/kaggle.json'):\n",
        "    uploaded = files.upload()\n",
        "    os.makedirs('/root/.kaggle', exist_ok=True)\n",
        "    shutil.move('kaggle.json', '/root/.kaggle/kaggle.json')\n",
        "    !chmod 600 /root/.kaggle/kaggle.json\n",
        "\n",
        "!pip -q install kaggle\n"
      ],
      "metadata": {
        "colab": {
          "base_uri": "https://localhost:8080/",
          "height": 73
        },
        "id": "DwOLkF_f0PAN",
        "outputId": "ab375966-f2c1-4082-cf45-e62e56ce8377"
      },
      "execution_count": null,
      "outputs": [
        {
          "output_type": "display_data",
          "data": {
            "text/plain": [
              "<IPython.core.display.HTML object>"
            ],
            "text/html": [
              "\n",
              "     <input type=\"file\" id=\"files-526b9592-17b1-4f15-b0d9-3ca8faf41743\" name=\"files[]\" multiple disabled\n",
              "        style=\"border:none\" />\n",
              "     <output id=\"result-526b9592-17b1-4f15-b0d9-3ca8faf41743\">\n",
              "      Upload widget is only available when the cell has been executed in the\n",
              "      current browser session. Please rerun this cell to enable.\n",
              "      </output>\n",
              "      <script>// Copyright 2017 Google LLC\n",
              "//\n",
              "// Licensed under the Apache License, Version 2.0 (the \"License\");\n",
              "// you may not use this file except in compliance with the License.\n",
              "// You may obtain a copy of the License at\n",
              "//\n",
              "//      http://www.apache.org/licenses/LICENSE-2.0\n",
              "//\n",
              "// Unless required by applicable law or agreed to in writing, software\n",
              "// distributed under the License is distributed on an \"AS IS\" BASIS,\n",
              "// WITHOUT WARRANTIES OR CONDITIONS OF ANY KIND, either express or implied.\n",
              "// See the License for the specific language governing permissions and\n",
              "// limitations under the License.\n",
              "\n",
              "/**\n",
              " * @fileoverview Helpers for google.colab Python module.\n",
              " */\n",
              "(function(scope) {\n",
              "function span(text, styleAttributes = {}) {\n",
              "  const element = document.createElement('span');\n",
              "  element.textContent = text;\n",
              "  for (const key of Object.keys(styleAttributes)) {\n",
              "    element.style[key] = styleAttributes[key];\n",
              "  }\n",
              "  return element;\n",
              "}\n",
              "\n",
              "// Max number of bytes which will be uploaded at a time.\n",
              "const MAX_PAYLOAD_SIZE = 100 * 1024;\n",
              "\n",
              "function _uploadFiles(inputId, outputId) {\n",
              "  const steps = uploadFilesStep(inputId, outputId);\n",
              "  const outputElement = document.getElementById(outputId);\n",
              "  // Cache steps on the outputElement to make it available for the next call\n",
              "  // to uploadFilesContinue from Python.\n",
              "  outputElement.steps = steps;\n",
              "\n",
              "  return _uploadFilesContinue(outputId);\n",
              "}\n",
              "\n",
              "// This is roughly an async generator (not supported in the browser yet),\n",
              "// where there are multiple asynchronous steps and the Python side is going\n",
              "// to poll for completion of each step.\n",
              "// This uses a Promise to block the python side on completion of each step,\n",
              "// then passes the result of the previous step as the input to the next step.\n",
              "function _uploadFilesContinue(outputId) {\n",
              "  const outputElement = document.getElementById(outputId);\n",
              "  const steps = outputElement.steps;\n",
              "\n",
              "  const next = steps.next(outputElement.lastPromiseValue);\n",
              "  return Promise.resolve(next.value.promise).then((value) => {\n",
              "    // Cache the last promise value to make it available to the next\n",
              "    // step of the generator.\n",
              "    outputElement.lastPromiseValue = value;\n",
              "    return next.value.response;\n",
              "  });\n",
              "}\n",
              "\n",
              "/**\n",
              " * Generator function which is called between each async step of the upload\n",
              " * process.\n",
              " * @param {string} inputId Element ID of the input file picker element.\n",
              " * @param {string} outputId Element ID of the output display.\n",
              " * @return {!Iterable<!Object>} Iterable of next steps.\n",
              " */\n",
              "function* uploadFilesStep(inputId, outputId) {\n",
              "  const inputElement = document.getElementById(inputId);\n",
              "  inputElement.disabled = false;\n",
              "\n",
              "  const outputElement = document.getElementById(outputId);\n",
              "  outputElement.innerHTML = '';\n",
              "\n",
              "  const pickedPromise = new Promise((resolve) => {\n",
              "    inputElement.addEventListener('change', (e) => {\n",
              "      resolve(e.target.files);\n",
              "    });\n",
              "  });\n",
              "\n",
              "  const cancel = document.createElement('button');\n",
              "  inputElement.parentElement.appendChild(cancel);\n",
              "  cancel.textContent = 'Cancel upload';\n",
              "  const cancelPromise = new Promise((resolve) => {\n",
              "    cancel.onclick = () => {\n",
              "      resolve(null);\n",
              "    };\n",
              "  });\n",
              "\n",
              "  // Wait for the user to pick the files.\n",
              "  const files = yield {\n",
              "    promise: Promise.race([pickedPromise, cancelPromise]),\n",
              "    response: {\n",
              "      action: 'starting',\n",
              "    }\n",
              "  };\n",
              "\n",
              "  cancel.remove();\n",
              "\n",
              "  // Disable the input element since further picks are not allowed.\n",
              "  inputElement.disabled = true;\n",
              "\n",
              "  if (!files) {\n",
              "    return {\n",
              "      response: {\n",
              "        action: 'complete',\n",
              "      }\n",
              "    };\n",
              "  }\n",
              "\n",
              "  for (const file of files) {\n",
              "    const li = document.createElement('li');\n",
              "    li.append(span(file.name, {fontWeight: 'bold'}));\n",
              "    li.append(span(\n",
              "        `(${file.type || 'n/a'}) - ${file.size} bytes, ` +\n",
              "        `last modified: ${\n",
              "            file.lastModifiedDate ? file.lastModifiedDate.toLocaleDateString() :\n",
              "                                    'n/a'} - `));\n",
              "    const percent = span('0% done');\n",
              "    li.appendChild(percent);\n",
              "\n",
              "    outputElement.appendChild(li);\n",
              "\n",
              "    const fileDataPromise = new Promise((resolve) => {\n",
              "      const reader = new FileReader();\n",
              "      reader.onload = (e) => {\n",
              "        resolve(e.target.result);\n",
              "      };\n",
              "      reader.readAsArrayBuffer(file);\n",
              "    });\n",
              "    // Wait for the data to be ready.\n",
              "    let fileData = yield {\n",
              "      promise: fileDataPromise,\n",
              "      response: {\n",
              "        action: 'continue',\n",
              "      }\n",
              "    };\n",
              "\n",
              "    // Use a chunked sending to avoid message size limits. See b/62115660.\n",
              "    let position = 0;\n",
              "    do {\n",
              "      const length = Math.min(fileData.byteLength - position, MAX_PAYLOAD_SIZE);\n",
              "      const chunk = new Uint8Array(fileData, position, length);\n",
              "      position += length;\n",
              "\n",
              "      const base64 = btoa(String.fromCharCode.apply(null, chunk));\n",
              "      yield {\n",
              "        response: {\n",
              "          action: 'append',\n",
              "          file: file.name,\n",
              "          data: base64,\n",
              "        },\n",
              "      };\n",
              "\n",
              "      let percentDone = fileData.byteLength === 0 ?\n",
              "          100 :\n",
              "          Math.round((position / fileData.byteLength) * 100);\n",
              "      percent.textContent = `${percentDone}% done`;\n",
              "\n",
              "    } while (position < fileData.byteLength);\n",
              "  }\n",
              "\n",
              "  // All done.\n",
              "  yield {\n",
              "    response: {\n",
              "      action: 'complete',\n",
              "    }\n",
              "  };\n",
              "}\n",
              "\n",
              "scope.google = scope.google || {};\n",
              "scope.google.colab = scope.google.colab || {};\n",
              "scope.google.colab._files = {\n",
              "  _uploadFiles,\n",
              "  _uploadFilesContinue,\n",
              "};\n",
              "})(self);\n",
              "</script> "
            ]
          },
          "metadata": {}
        },
        {
          "output_type": "stream",
          "name": "stdout",
          "text": [
            "Saving kaggle.json to kaggle.json\n"
          ]
        }
      ]
    },
    {
      "cell_type": "markdown",
      "source": [
        "Upload your kaggle.json to enable dataset downloads from Kaggle."
      ],
      "metadata": {
        "id": "5vg-TkvxTzXG"
      }
    },
    {
      "cell_type": "code",
      "source": [
        "!kaggle datasets download -d noobyogi0100/shoe-dataset -p \"$DATA_DIR\" -q\n",
        "!unzip -q \"$DATA_DIR/shoe-dataset.zip\" -d \"$DATA_DIR\"\n",
        "\n",
        "import glob, os\n",
        "candidates = [p for p in glob.glob(str(DATA_DIR/'*')) if os.path.isdir(p)]\n",
        "print('Found:', candidates)\n"
      ],
      "metadata": {
        "colab": {
          "base_uri": "https://localhost:8080/"
        },
        "id": "HcIe_Nj80btz",
        "outputId": "9016599e-1d75-4806-cfab-e5b4d8534fb8"
      },
      "execution_count": null,
      "outputs": [
        {
          "metadata": {
            "tags": null
          },
          "name": "stdout",
          "output_type": "stream",
          "text": [
            "Dataset URL: https://www.kaggle.com/datasets/noobyogi0100/shoe-dataset\n",
            "License(s): CC0-1.0\n",
            "replace /content/drive/MyDrive/shoe_project/data/shoeTypeClassifierDataset/training/boots/image1.jpg? [y]es, [n]o, [A]ll, [N]one, [r]ename: "
          ]
        }
      ]
    },
    {
      "cell_type": "markdown",
      "source": [
        "Grab the shoe dataset from Kaggle, extract it, and auto-detect the folder structure."
      ],
      "metadata": {
        "id": "dD-zYJ6pT3WG"
      }
    },
    {
      "cell_type": "code",
      "source": [
        "from fastai.vision.all import *\n",
        "from pathlib import Path\n",
        "\n",
        "BASE_NEST = Path(sorted(candidates)[0]) if candidates else DATA_DIR\n",
        "DATA = BASE_NEST/'train' if (BASE_NEST/'train').exists() else BASE_NEST\n",
        "\n",
        "print('Using DATA =', DATA)\n",
        "for p in (DATA.ls().sorted()):\n",
        "    if p.is_dir(): print(f'{p.name:12s}', len(get_image_files(p)))\n"
      ],
      "metadata": {
        "id": "YABdBH9Q0jT1"
      },
      "execution_count": null,
      "outputs": []
    },
    {
      "cell_type": "markdown",
      "source": [],
      "metadata": {
        "id": "3ICDzCl97ELO"
      }
    },
    {
      "cell_type": "markdown",
      "source": [
        "Point to the train folder if it exists, otherwise use the base folder. Print classes and counts."
      ],
      "metadata": {
        "id": "v4flTknIT7g-"
      }
    },
    {
      "cell_type": "code",
      "source": [
        "failed = verify_images(get_image_files(DATA)); failed.map(Path.unlink); print('removed:', len(failed))\n",
        "\n",
        "dblock = DataBlock(\n",
        "    blocks=(ImageBlock, CategoryBlock),\n",
        "    get_items=get_image_files,\n",
        "    splitter=RandomSplitter(valid_pct=0.2, seed=42),\n",
        "    get_y=parent_label,\n",
        "    item_tfms=Resize(256, method='pad'),\n",
        "    batch_tfms=aug_transforms(size=224, min_scale=0.6, max_rotate=15, p_lighting=0.9)\n",
        ")\n",
        "dls = dblock.dataloaders(DATA, bs=32)\n",
        "dls.show_batch(max_n=12)\n",
        "print('classes:', dls.vocab)\n"
      ],
      "metadata": {
        "id": "-UPjcIbI0j4M"
      },
      "execution_count": null,
      "outputs": []
    },
    {
      "cell_type": "markdown",
      "source": [
        "get the failed images out. create the datablock and datalaoder. show 12 examples. print the classes/groups that were going to look for"
      ],
      "metadata": {
        "id": "KffB26KJ6v70"
      }
    },
    {
      "cell_type": "code",
      "source": [
        "learn = vision_learner(dls, resnet34, metrics=accuracy)\n",
        "res = learn.lr_find()\n",
        "\n",
        "lr = res.valley or res.minimum\n",
        "print(\"Using LR:\", lr)\n",
        "\n",
        "# Train\n",
        "learn.fine_tune(5, base_lr=lr)\n"
      ],
      "metadata": {
        "id": "lQ2drKto0pZD"
      },
      "execution_count": null,
      "outputs": []
    },
    {
      "cell_type": "markdown",
      "source": [
        "find the learning rate. then print out it. then show the graph. then train the model"
      ],
      "metadata": {
        "id": "eW8IcCgv6h9a"
      }
    },
    {
      "cell_type": "code",
      "source": [
        "learn.export('model.pkl')\n"
      ],
      "metadata": {
        "id": "RbDI1hu86d0m"
      },
      "execution_count": null,
      "outputs": []
    },
    {
      "cell_type": "markdown",
      "source": [
        "export model so we can actually use it"
      ],
      "metadata": {
        "id": "307x_0xH6ecx"
      }
    },
    {
      "cell_type": "code",
      "source": [
        "!pip -q install gradio\n",
        "\n",
        "from fastai.vision.all import *\n",
        "import gradio as gr\n",
        "\n",
        "#load model.pkl(the exported leaner)\n",
        "learn = load_learner('/content/model.pkl')\n",
        "\n",
        "#Predict!\n",
        "def predict(img: PILImage):\n",
        "    label, idx, probs = learn.predict(img)\n",
        "    vocab = learn.dls.vocab\n",
        "    topk = min(3, len(vocab))\n",
        "    vals, inds = probs.topk(topk)\n",
        "    return {str(vocab[i]): float(v) for v, i in zip(vals, inds)}\n",
        "\n",
        "#gradio UI\n",
        "classes_text = \", \".join(map(str, learn.dls.vocab))\n",
        "demo = gr.Interface(\n",
        "    fn=predict,\n",
        "    inputs=gr.Image(type=\"pil\", label=\"Upload an image\"),\n",
        "    outputs=gr.Label(num_top_classes=3),\n",
        "    title=\"Image Classifier\",\n",
        "    description=(\n",
        "        \"Upload an image. The model was trained on this project’s dataset.\\n\"\n",
        "        \"Out-of-distribution images may be misclassified.\\n\"\n",
        "        f\"Classes: {classes_text}\"\n",
        "    ),\n",
        ")\n",
        "\n",
        "demo.launch(share=True)  # set share=False if you don’t need a public link\n"
      ],
      "metadata": {
        "id": "tICgEAd_VCOS"
      },
      "execution_count": null,
      "outputs": []
    },
    {
      "cell_type": "markdown",
      "source": [
        "made a UI so you can actually use the model"
      ],
      "metadata": {
        "id": "sxJwboY6WGRI"
      }
    }
  ]
}